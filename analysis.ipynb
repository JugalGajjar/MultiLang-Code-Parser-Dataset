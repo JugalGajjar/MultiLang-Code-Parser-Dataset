{
 "cells": [
  {
   "cell_type": "markdown",
   "id": "cc2f28f9",
   "metadata": {},
   "source": [
    "## ================================================<br>📘 MLCPD: Universal Schema Dataset Analysis<br>-------------------------------------------------------------------<br>Purpose: Analyze file-level, language-level, and overall statistics of<br>universal schema dataset.<br>================================================"
   ]
  },
  {
   "cell_type": "markdown",
   "id": "7455f778",
   "metadata": {},
   "source": [
    "### 1. Setup and Imports"
   ]
  },
  {
   "cell_type": "code",
   "execution_count": 5,
   "id": "80536c9c",
   "metadata": {},
   "outputs": [],
   "source": [
    "import os\n",
    "import json\n",
    "import pandas as pd\n",
    "import numpy as np\n",
    "from glob import glob\n",
    "from tqdm import tqdm\n",
    "import matplotlib.pyplot as plt\n",
    "import seaborn as sns\n",
    "\n",
    "%matplotlib inline"
   ]
  },
  {
   "cell_type": "code",
   "execution_count": 6,
   "id": "22b9a14c",
   "metadata": {},
   "outputs": [],
   "source": [
    "# Notebook aesthetics\n",
    "sns.set_theme(style=\"whitegrid\")\n",
    "plt.rcParams[\"figure.figsize\"] = (8, 5)"
   ]
  },
  {
   "cell_type": "code",
   "execution_count": 7,
   "id": "2b040f9e",
   "metadata": {},
   "outputs": [],
   "source": [
    "# Define dataset path and languages\n",
    "DATA_PATH = \"final_parquet_output\"\n",
    "languages = [\n",
    "    \"c\", \"cpp\", \"c_sharp\", \"go\", \"java\", \"javascript\",\n",
    "    \"python\", \"ruby\", \"scala\", \"typescript\"\n",
    "]"
   ]
  },
  {
   "cell_type": "markdown",
   "id": "f538c9b6",
   "metadata": {},
   "source": [
    "### 2. Utility Functions"
   ]
  },
  {
   "cell_type": "code",
   "execution_count": 8,
   "id": "cc89c59f",
   "metadata": {},
   "outputs": [],
   "source": [
    "def get_file_stats(file_path):\n",
    "    \"\"\"\n",
    "    Compute summary statistics for a single Parquet file.\n",
    "    Returns a dictionary with quantitative metrics.\n",
    "    \"\"\"\n",
    "    df = pd.read_parquet(file_path)\n",
    "    disk_size = os.path.getsize(file_path)\n",
    "    mem_size = df.memory_usage(deep=True).sum()\n",
    "    rows = len(df)\n",
    "\n",
    "    stats = {\n",
    "        \"file\": os.path.basename(file_path),\n",
    "        \"language\": df['language'].iloc[0],\n",
    "        \"rows\": rows,\n",
    "        \"disk_size_gb\": disk_size / 1e9,\n",
    "        \"memory_size_gb\": mem_size / 1e9,\n",
    "        \"mean_line_count\": df[\"line_count\"].mean(),\n",
    "        \"std_line_count\": df[\"line_count\"].std(),\n",
    "        \"mean_ast_nodes\": df[\"ast_node_count\"].mean(),\n",
    "        \"std_ast_nodes\": df[\"ast_node_count\"].std(),\n",
    "        \"mean_line_length\": df[\"avg_line_length\"].mean(),\n",
    "        \"mean_node_density\": (df[\"ast_node_count\"] / df[\"line_count\"]).mean(),\n",
    "        \"mean_errors\": df[\"num_errors\"].mean(),\n",
    "        \"zero_error_ratio\": (df[\"num_errors\"] == 0).mean() * 100\n",
    "    }\n",
    "    return stats"
   ]
  },
  {
   "cell_type": "markdown",
   "id": "8957a815",
   "metadata": {},
   "source": [
    "### 3. File-Level Analysis"
   ]
  },
  {
   "cell_type": "code",
   "execution_count": null,
   "id": "c7c3b406",
   "metadata": {},
   "outputs": [],
   "source": [
    "file_stats = []\n",
    "for lang in tqdm(languages, desc=\"Processing languages\"):\n",
    "    for file_path in glob(f\"{DATA_PATH}/{lang}_parsed_*.parquet\"):\n",
    "        file_stats.append(get_file_stats(file_path))"
   ]
  },
  {
   "cell_type": "code",
   "execution_count": null,
   "id": "6a0c13dd",
   "metadata": {},
   "outputs": [],
   "source": [
    "df_files = pd.DataFrame(file_stats)\n",
    "df_files.to_csv(\"stats_file_level.csv\", index=False)\n",
    "display(df_files.head())"
   ]
  },
  {
   "cell_type": "code",
   "execution_count": null,
   "id": "53ddda16",
   "metadata": {},
   "outputs": [],
   "source": [
    "# Basic plots\n",
    "sns.barplot(df_files, x=\"language\", y=\"rows\", estimator=sum)\n",
    "plt.title(\"Row Count per Parquet File (per Language)\")\n",
    "plt.xticks(rotation=45)\n",
    "plt.show()"
   ]
  },
  {
   "cell_type": "code",
   "execution_count": null,
   "id": "e540cc4a",
   "metadata": {},
   "outputs": [],
   "source": [
    "sns.barplot(df_files, x=\"language\", y=\"disk_size_gb\", estimator=sum)\n",
    "plt.title(\"Disk Size (GB) per Language (Sum of 4 Files)\")\n",
    "plt.xticks(rotation=45)\n",
    "plt.show()"
   ]
  },
  {
   "cell_type": "markdown",
   "id": "9cc11ae7",
   "metadata": {},
   "source": [
    "### 4. Language-Level Aggregation"
   ]
  },
  {
   "cell_type": "code",
   "execution_count": null,
   "id": "1e21e056",
   "metadata": {},
   "outputs": [],
   "source": [
    "df_lang = (\n",
    "    df_files.groupby(\"language\").apply(lambda g: pd.Series({\n",
    "        \"total_rows\": g[\"rows\"].sum(),\n",
    "        \"disk_size_gb\": g[\"disk_size_gb\"].sum(),\n",
    "        \"memory_size_gb\": g[\"memory_size_gb\"].sum(),\n",
    "        \"mean_line_count\": np.average(g[\"mean_line_count\"], weights=g[\"rows\"]),\n",
    "        \"mean_ast_nodes\": np.average(g[\"mean_ast_nodes\"], weights=g[\"rows\"]),\n",
    "        \"mean_line_length\": np.average(g[\"mean_line_length\"], weights=g[\"rows\"]),\n",
    "        \"mean_node_density\": np.average(g[\"mean_node_density\"], weights=g[\"rows\"]),\n",
    "        \"mean_errors\": np.average(g[\"mean_errors\"], weights=g[\"rows\"]),\n",
    "        \"zero_error_ratio\": np.average(g[\"zero_error_ratio\"], weights=g[\"rows\"])\n",
    "    }))\n",
    "    .reset_index()\n",
    ")"
   ]
  },
  {
   "cell_type": "code",
   "execution_count": null,
   "id": "4da42995",
   "metadata": {},
   "outputs": [],
   "source": [
    "df_lang.to_csv(\"stats_language_level.csv\", index=False)\n",
    "display(df_lang)"
   ]
  },
  {
   "cell_type": "code",
   "execution_count": null,
   "id": "72f4e7a5",
   "metadata": {},
   "outputs": [],
   "source": [
    "# Visualization: Node Density and AST Nodes\n",
    "sns.barplot(df_lang, x=\"language\", y=\"mean_ast_nodes\")\n",
    "plt.title(\"Average AST Node Count per File (per Language)\")\n",
    "plt.xticks(rotation=45)\n",
    "plt.show()"
   ]
  },
  {
   "cell_type": "code",
   "execution_count": null,
   "id": "b0f72ba7",
   "metadata": {},
   "outputs": [],
   "source": [
    "sns.barplot(df_lang, x=\"language\", y=\"mean_node_density\")\n",
    "plt.title(\"Average Node Density (AST Nodes per Line) per Language\")\n",
    "plt.xticks(rotation=45)\n",
    "plt.show()"
   ]
  },
  {
   "cell_type": "markdown",
   "id": "93044d15",
   "metadata": {},
   "source": [
    "### 5. Overall Dataset Summary"
   ]
  },
  {
   "cell_type": "code",
   "execution_count": null,
   "id": "992f6bad",
   "metadata": {},
   "outputs": [],
   "source": [
    "df_total = pd.Series({\n",
    "    \"total_languages\": len(languages),\n",
    "    \"total_files\": len(df_files),\n",
    "    \"total_rows\": df_lang[\"total_rows\"].sum(),\n",
    "    \"total_disk_size_gb\": df_lang[\"disk_size_gb\"].sum(),\n",
    "    \"total_memory_size_gb\": df_lang[\"memory_size_gb\"].sum(),\n",
    "    \"avg_line_count\": np.average(df_lang[\"mean_line_count\"], weights=df_lang[\"total_rows\"]),\n",
    "    \"avg_ast_nodes\": np.average(df_lang[\"mean_ast_nodes\"], weights=df_lang[\"total_rows\"]),\n",
    "    \"avg_line_length\": np.average(df_lang[\"mean_line_length\"], weights=df_lang[\"total_rows\"]),\n",
    "    \"avg_errors\": np.average(df_lang[\"mean_errors\"], weights=df_lang[\"total_rows\"]),\n",
    "    \"overall_zero_error_ratio\": np.average(df_lang[\"zero_error_ratio\"], weights=df_lang[\"total_rows\"]),\n",
    "})"
   ]
  },
  {
   "cell_type": "code",
   "execution_count": null,
   "id": "5b61b228",
   "metadata": {},
   "outputs": [],
   "source": [
    "display(df_total.to_frame(\"Overall_Stats\"))"
   ]
  },
  {
   "cell_type": "code",
   "execution_count": null,
   "id": "e9da837e",
   "metadata": {},
   "outputs": [],
   "source": [
    "# Save combined stats\n",
    "with pd.ExcelWriter(\"dataset_summary.xlsx\") as writer:\n",
    "    df_files.to_excel(writer, sheet_name=\"File_Level\", index=False)\n",
    "    df_lang.to_excel(writer, sheet_name=\"Language_Level\", index=False)\n",
    "    df_total.to_frame(\"Overall\").to_excel(writer, sheet_name=\"Overall\", index=True)"
   ]
  },
  {
   "cell_type": "markdown",
   "id": "0d8e5d49",
   "metadata": {},
   "source": [
    "### 6. Conversion Success Analysis"
   ]
  },
  {
   "cell_type": "code",
   "execution_count": null,
   "id": "a64467ef",
   "metadata": {},
   "outputs": [],
   "source": [
    "successful = 7021718\n",
    "total = 7021722"
   ]
  },
  {
   "cell_type": "code",
   "execution_count": null,
   "id": "1c0ddfb6",
   "metadata": {},
   "outputs": [],
   "source": [
    "failed = total - successful\n",
    "success_rate = successful / total * 100\n",
    "failure_rate = failed / total * 100"
   ]
  },
  {
   "cell_type": "code",
   "execution_count": null,
   "id": "a22eed99",
   "metadata": {},
   "outputs": [],
   "source": [
    "print(f\"✅ Successful conversions : {successful:,}\")\n",
    "print(f\"🔢 Total attempted        : {total:,}\")\n",
    "print(f\"❌ Failures               : {failed:,}\")\n",
    "print(f\"📈 Success rate           : {success_rate:.5f}%\")\n",
    "print(f\"📉 Failure rate           : {failure_rate:.5f}%\")"
   ]
  },
  {
   "cell_type": "markdown",
   "id": "794c0150",
   "metadata": {},
   "source": [
    "We observed an overall 99.99994% success rate with only 4 failed rows, <br>3 from C (split 1, 3,& 4) and 1 from C++ (split 3), caused by irregular <br>nested node fragments that did not match schema expectations."
   ]
  },
  {
   "cell_type": "code",
   "execution_count": null,
   "id": "2fc88b39",
   "metadata": {},
   "outputs": [],
   "source": [
    "# Bar visualization\n",
    "plt.bar([\"Successful\", \"Failed\"], [successful, failed], color=[\"green\", \"red\"])\n",
    "plt.title(\"Conversion Outcomes\")\n",
    "plt.ylabel(\"Number of Rows\")\n",
    "plt.show()"
   ]
  },
  {
   "cell_type": "code",
   "execution_count": null,
   "id": "ae008616",
   "metadata": {},
   "outputs": [],
   "source": [
    "# Save metrics for paper inclusion\n",
    "pd.DataFrame({\n",
    "    \"successful\": [successful],\n",
    "    \"failed\": [failed],\n",
    "    \"total\": [total],\n",
    "    \"success_rate_%\": [round(success_rate, 5)],\n",
    "    \"failure_rate_%\": [round(failure_rate, 5)]\n",
    "}).to_csv(\"conversion_success_stats.csv\", index=False)"
   ]
  },
  {
   "cell_type": "markdown",
   "id": "f0cce9ff",
   "metadata": {},
   "source": [
    "### 7. Cross-Language Similarity Analysis"
   ]
  },
  {
   "cell_type": "code",
   "execution_count": null,
   "id": "144fbbd1",
   "metadata": {},
   "outputs": [],
   "source": [
    "from sklearn.metrics.pairwise import cosine_similarity\n",
    "from sklearn.preprocessing import normalize\n",
    "import itertools"
   ]
  },
  {
   "cell_type": "code",
   "execution_count": null,
   "id": "d4756aa5",
   "metadata": {},
   "outputs": [],
   "source": [
    "def extract_universal_types(df, sample_size=20000):\n",
    "    \"\"\"\n",
    "    Extract all universal node types from stringified JSON.\n",
    "    Optionally sample for performance.\n",
    "    \"\"\"\n",
    "    if len(df) > sample_size:\n",
    "        df = df.sample(sample_size, random_state=42)\n",
    "    \n",
    "    all_types = []\n",
    "    for js in df[\"universal_schema\"]:\n",
    "        try:\n",
    "            schema = json.loads(js)\n",
    "            # recursively walk the schema to collect node types\n",
    "            stack = [schema]\n",
    "            while stack:\n",
    "                node = stack.pop()\n",
    "                if isinstance(node, dict):\n",
    "                    if \"type\" in node:\n",
    "                        all_types.append(node[\"type\"])\n",
    "                    if \"children\" in node and isinstance(node[\"children\"], list):\n",
    "                        stack.extend(node[\"children\"])\n",
    "        except Exception:\n",
    "            continue\n",
    "    return pd.Series(all_types).value_counts()"
   ]
  },
  {
   "cell_type": "code",
   "execution_count": null,
   "id": "300d6cef",
   "metadata": {},
   "outputs": [],
   "source": [
    "# Compute universal type frequency distributions per language\n",
    "type_dists = {}\n",
    "for lang in tqdm(languages, desc=\"Extracting universal types\"):\n",
    "    freq = pd.Series(dtype=int)\n",
    "    for fp in glob(f\"{DATA_PATH}/{lang}_parsed_*.parquet\"):\n",
    "        df = pd.read_parquet(fp, columns=[\"universal_schema\"])\n",
    "        freq = freq.add(extract_universal_types(df), fill_value=0)\n",
    "    type_dists[lang] = freq"
   ]
  },
  {
   "cell_type": "code",
   "execution_count": null,
   "id": "5b630429",
   "metadata": {},
   "outputs": [],
   "source": [
    "# Create aligned frequency matrix\n",
    "all_types = sorted(set().union(*[set(v.index) for v in type_dists.values()]))\n",
    "freq_matrix = pd.DataFrame(0, index=languages, columns=all_types)"
   ]
  },
  {
   "cell_type": "code",
   "execution_count": null,
   "id": "b79299c5",
   "metadata": {},
   "outputs": [],
   "source": [
    "for lang, series in type_dists.items():\n",
    "    freq_matrix.loc[lang, series.index] = series.values"
   ]
  },
  {
   "cell_type": "code",
   "execution_count": null,
   "id": "c65552fa",
   "metadata": {},
   "outputs": [],
   "source": [
    "# Normalize to probability distributions\n",
    "prob_matrix = normalize(freq_matrix, norm=\"l1\")"
   ]
  },
  {
   "cell_type": "code",
   "execution_count": null,
   "id": "0d59af48",
   "metadata": {},
   "outputs": [],
   "source": [
    "# Compute cosine similarity\n",
    "sim_matrix = cosine_similarity(prob_matrix)\n",
    "df_sim = pd.DataFrame(sim_matrix, index=languages, columns=languages)"
   ]
  },
  {
   "cell_type": "code",
   "execution_count": null,
   "id": "5db49032",
   "metadata": {},
   "outputs": [],
   "source": [
    "# Plot heatmap\n",
    "sns.heatmap(df_sim, annot=True, cmap=\"Blues\")\n",
    "plt.title(\"Cross-Language Similarity (Cosine of Universal Type Distributions)\")\n",
    "plt.show()"
   ]
  },
  {
   "cell_type": "markdown",
   "id": "de707c18",
   "metadata": {},
   "source": [
    "### 8. Schema Entropy Analysis"
   ]
  },
  {
   "cell_type": "code",
   "execution_count": null,
   "id": "73cb3708",
   "metadata": {},
   "outputs": [],
   "source": [
    "# Convert to long-form counts (universal_type × language)\n",
    "type_counts = freq_matrix.stack().reset_index()\n",
    "type_counts.columns = [\"language\", \"universal_type\", \"count\"]"
   ]
  },
  {
   "cell_type": "code",
   "execution_count": null,
   "id": "f7592163",
   "metadata": {},
   "outputs": [],
   "source": [
    "# Compute total count per type\n",
    "type_totals = type_counts.groupby(\"universal_type\")[\"count\"].sum().rename(\"total\")\n",
    "type_counts = type_counts.merge(type_totals, on=\"universal_type\")\n",
    "type_counts[\"p_lang_given_type\"] = type_counts[\"count\"] / type_counts[\"total\"]"
   ]
  },
  {
   "cell_type": "code",
   "execution_count": null,
   "id": "feab1a94",
   "metadata": {},
   "outputs": [],
   "source": [
    "# Entropy per universal type\n",
    "entropy_df = (\n",
    "    type_counts.groupby(\"universal_type\")[\"p_lang_given_type\"]\n",
    "    .apply(lambda p: -np.sum(p * np.log(p + 1e-12)))\n",
    "    .reset_index(name=\"entropy\")\n",
    ")"
   ]
  },
  {
   "cell_type": "code",
   "execution_count": null,
   "id": "9ab58192",
   "metadata": {},
   "outputs": [],
   "source": [
    "top_entropy = entropy_df.sort_values(\"entropy\", ascending=False).head(20)\n",
    "low_entropy = entropy_df.sort_values(\"entropy\", ascending=True).head(20)"
   ]
  },
  {
   "cell_type": "code",
   "execution_count": null,
   "id": "e6709586",
   "metadata": {},
   "outputs": [],
   "source": [
    "fig, axes = plt.subplots(1, 2, figsize=(16, 6))\n",
    "sns.barplot(top_entropy, x=\"entropy\", y=\"universal_type\", ax=axes[0])\n",
    "axes[0].set_title(\"Top 20 High-Entropy Universal Types (Shared Across Languages)\")\n",
    "sns.barplot(low_entropy, x=\"entropy\", y=\"universal_type\", ax=axes[1])\n",
    "axes[1].set_title(\"Top 20 Low-Entropy Universal Types (Language-Specific)\")\n",
    "plt.tight_layout()\n",
    "plt.show()"
   ]
  },
  {
   "cell_type": "markdown",
   "id": "bbe26826",
   "metadata": {},
   "source": [
    "### 8. Insights Summary (for Paper)\n",
    "- **Conversion success:** 7,021,718 / 7,021,722  → **99.99994%** success rate (only 4 failed rows).\n",
    "- **Universal schema coverage:** 100% representation achieved across all 10 languages.\n",
    "- **Dataset scale:** see `dataset_summary.xlsx` — total ≈ sum of 40 Parquet files.\n",
    "- **Parsing quality:** high zero-error ratios and consistent AST densities across languages.\n",
    "- **Cross-language similarity:** heatmap shows clusters between syntactically related languages (e.g., C/C++/C#, Java/Scala, JS/TS).\n",
    "- **Schema entropy:** entropy scores quantify structural diversity; higher values correspond to richer, more varied node distributions."
   ]
  },
  {
   "cell_type": "markdown",
   "id": "7da2a477",
   "metadata": {},
   "source": [
    "These analyses constitute the quantitative foundation of the **\"Dataset Statistics and Analysis\"**<br>and **\"Cross-Language Uniformity\"** sections of the MLCPD paper.\n"
   ]
  },
  {
   "cell_type": "code",
   "execution_count": null,
   "id": "36ce99a0",
   "metadata": {},
   "outputs": [],
   "source": []
  }
 ],
 "metadata": {
  "kernelspec": {
   "display_name": "codeparser",
   "language": "python",
   "name": "python3"
  },
  "language_info": {
   "codemirror_mode": {
    "name": "ipython",
    "version": 3
   },
   "file_extension": ".py",
   "mimetype": "text/x-python",
   "name": "python",
   "nbconvert_exporter": "python",
   "pygments_lexer": "ipython3",
   "version": "3.11.12"
  }
 },
 "nbformat": 4,
 "nbformat_minor": 5
}
